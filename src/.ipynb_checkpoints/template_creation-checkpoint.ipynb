{
 "cells": [
  {
   "cell_type": "code",
   "execution_count": 1,
   "id": "5c89d756-59f4-4776-be51-17339a2519d5",
   "metadata": {},
   "outputs": [
    {
     "ename": "PermissionError",
     "evalue": "[WinError 32] The process cannot access the file because it is being used by another process: '../assets/template_data/jnt.npz'",
     "output_type": "error",
     "traceback": [
      "\u001b[1;31m---------------------------------------------------------------------------\u001b[0m",
      "\u001b[1;31mPermissionError\u001b[0m                           Traceback (most recent call last)",
      "\u001b[1;32m<ipython-input-1-e1b544bd12ee>\u001b[0m in \u001b[0;36m<module>\u001b[1;34m\u001b[0m\n\u001b[0;32m     26\u001b[0m     \u001b[0mfile_name\u001b[0m \u001b[1;33m=\u001b[0m \u001b[0mFILE_PATH\u001b[0m\u001b[1;33m[\u001b[0m\u001b[0mi\u001b[0m\u001b[1;33m]\u001b[0m\u001b[1;33m[\u001b[0m\u001b[0mFILE_PATH\u001b[0m\u001b[1;33m[\u001b[0m\u001b[0mi\u001b[0m\u001b[1;33m]\u001b[0m\u001b[1;33m.\u001b[0m\u001b[0mrfind\u001b[0m\u001b[1;33m(\u001b[0m\u001b[1;34m\"/\"\u001b[0m\u001b[1;33m)\u001b[0m \u001b[1;33m+\u001b[0m \u001b[1;36m1\u001b[0m \u001b[1;33m:\u001b[0m \u001b[0mFILE_PATH\u001b[0m\u001b[1;33m[\u001b[0m\u001b[0mi\u001b[0m\u001b[1;33m]\u001b[0m\u001b[1;33m.\u001b[0m\u001b[0mrfind\u001b[0m\u001b[1;33m(\u001b[0m\u001b[1;34m\".\"\u001b[0m\u001b[1;33m)\u001b[0m\u001b[1;33m]\u001b[0m \u001b[1;33m+\u001b[0m \u001b[1;34m\".npz\"\u001b[0m\u001b[1;33m\u001b[0m\u001b[1;33m\u001b[0m\u001b[0m\n\u001b[0;32m     27\u001b[0m     \u001b[1;32mif\u001b[0m \u001b[0mos\u001b[0m\u001b[1;33m.\u001b[0m\u001b[0mpath\u001b[0m\u001b[1;33m.\u001b[0m\u001b[0misfile\u001b[0m\u001b[1;33m(\u001b[0m\u001b[1;34mf\"../assets/template_data/{file_name}\"\u001b[0m\u001b[1;33m)\u001b[0m\u001b[1;33m:\u001b[0m\u001b[1;33m\u001b[0m\u001b[1;33m\u001b[0m\u001b[0m\n\u001b[1;32m---> 28\u001b[1;33m         \u001b[0mos\u001b[0m\u001b[1;33m.\u001b[0m\u001b[0mremove\u001b[0m\u001b[1;33m(\u001b[0m\u001b[1;34mf\"../assets/template_data/{file_name}\"\u001b[0m\u001b[1;33m)\u001b[0m\u001b[1;33m\u001b[0m\u001b[1;33m\u001b[0m\u001b[0m\n\u001b[0m\u001b[0;32m     29\u001b[0m     \u001b[0mnp\u001b[0m\u001b[1;33m.\u001b[0m\u001b[0msavez_compressed\u001b[0m\u001b[1;33m(\u001b[0m\u001b[0mfile_name\u001b[0m\u001b[1;33m,\u001b[0m \u001b[0mtemplate\u001b[0m \u001b[1;33m=\u001b[0m \u001b[0mcomprehensive_template\u001b[0m\u001b[1;33m)\u001b[0m\u001b[1;33m\u001b[0m\u001b[1;33m\u001b[0m\u001b[0m\n\u001b[0;32m     30\u001b[0m \u001b[1;33m\u001b[0m\u001b[0m\n",
      "\u001b[1;31mPermissionError\u001b[0m: [WinError 32] The process cannot access the file because it is being used by another process: '../assets/template_data/jnt.npz'"
     ]
    }
   ],
   "source": [
    "import librosa as lr\n",
    "import numpy as np\n",
    "import librosa.effects as lre\n",
    "import preprocess as pp\n",
    "import librosa.feature as lrf\n",
    "import shutil\n",
    "import os\n",
    "\n",
    "FILE_PATH = [\"../assets/jnt.wav\", \"../assets/memohon.wav\", \"../assets/maaf.wav\"]\n",
    "SAMPLING_RATE = 44100\n",
    "N_MFCC = 13\n",
    "DCT_TYPE = 3\n",
    "\n",
    "for i in range(len(FILE_PATH)):\n",
    "    template, template_sr = lr.load(FILE_PATH[i], sr = SAMPLING_RATE)\n",
    "    template = lre.preemphasis(template)\n",
    "    template = pp.noise_gating(template)\n",
    "    template, _ = lre.trim(template, top_db=40, frame_length=2048, hop_length=512)\n",
    "#     template_melspectogram = lrf.melspectrogram(y = template, sr = SAMPLING_RATE, window = \"hamming\")\n",
    "    template_melspectogram = None\n",
    "    template = lrf.mfcc(y = template, sr = template_sr, S = template_melspectogram, n_mfcc = N_MFCC, dct_type = DCT_TYPE, norm = \"ortho\")\n",
    "    template_delta = lrf.delta(template)\n",
    "    template_delta2 = lrf.delta(template, order = 2)\n",
    "    comprehensive_template = np.concatenate((template, template_delta, template_delta2))\n",
    "    \n",
    "    file_name = FILE_PATH[i][FILE_PATH[i].rfind(\"/\") + 1 : FILE_PATH[i].rfind(\".\")] + \".npz\"\n",
    "    if os.path.isfile(f\"../assets/template_data/{file_name}\"):\n",
    "        os.remove(f\"../assets/template_data/{file_name}\")\n",
    "    np.savez_compressed(file_name, template = comprehensive_template)\n",
    "    \n",
    "    destination = \"../assets/template_data\"\n",
    "    shutil.move(file_name, destination)"
   ]
  }
 ],
 "metadata": {
  "kernelspec": {
   "display_name": "Python 3",
   "language": "python",
   "name": "python3"
  },
  "language_info": {
   "codemirror_mode": {
    "name": "ipython",
    "version": 3
   },
   "file_extension": ".py",
   "mimetype": "text/x-python",
   "name": "python",
   "nbconvert_exporter": "python",
   "pygments_lexer": "ipython3",
   "version": "3.9.1"
  }
 },
 "nbformat": 4,
 "nbformat_minor": 5
}
