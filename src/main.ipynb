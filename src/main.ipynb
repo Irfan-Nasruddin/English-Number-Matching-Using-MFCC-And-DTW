{
 "cells": [
  {
   "cell_type": "code",
   "execution_count": 1,
   "id": "20bcf420-41ac-4ca6-a068-d9b9be30dcd8",
   "metadata": {},
   "outputs": [],
   "source": [
    "CONFIG_FILE_PATH = \"../configs/\"\n",
    "TEMPLATE_FILES_PATH = \"../assets/audio_files/templates/\"\n",
    "TEMPLATE_CONFIG_FILE = \"templates.txt\"\n",
    "TARGET_FILES_PATH = \"../assets/audio_files/targets/\"\n",
    "TARGET_CONFIG_FILE = \"targets.txt\""
   ]
  },
  {
   "cell_type": "code",
   "execution_count": null,
   "metadata": {},
   "outputs": [],
   "source": [
    "import speech_processing as sp"
   ]
  },
  {
   "cell_type": "code",
   "execution_count": 2,
   "id": "6511ac25-9cb9-478e-b80a-fb67d90a6d4c",
   "metadata": {},
   "outputs": [],
   "source": [
    "template_data, template_labels = sp.get_data(CONFIG_FILE_PATH + TEMPLATE_CONFIG_FILE, TEMPLATE_FILES_PATH)\n",
    "target_data, target_labels = sp.get_data(CONFIG_FILE_PATH + TARGET_CONFIG_FILE, TARGET_FILES_PATH)"
   ]
  },
  {
   "cell_type": "code",
   "execution_count": 5,
   "id": "37400cdf-a031-4519-9d0f-b15b783a5ce3",
   "metadata": {},
   "outputs": [],
   "source": [
    "import numpy as np\n",
    "from dtw import dtw"
   ]
  },
  {
   "cell_type": "code",
   "execution_count": 6,
   "id": "e2a70d0f-8b25-4bd0-94ff-e5a89dfb3929",
   "metadata": {},
   "outputs": [
    {
     "name": "stdout",
     "output_type": "stream",
     "text": [
      "Actual label of the target audio: 1A_endpt\n",
      "Predicted label: 1A_endpt\n",
      "\n",
      "Actual label of the target audio: 2A_endpt\n",
      "Predicted label: 2A_endpt\n",
      "\n",
      "Actual label of the target audio: 3A_endpt\n",
      "Predicted label: 3A_endpt\n",
      "\n",
      "Actual label of the target audio: 4A_endpt\n",
      "Predicted label: 4A_endpt\n",
      "\n",
      "Actual label of the target audio: 5A_endpt\n",
      "Predicted label: 5A_endpt\n",
      "\n",
      "Actual label of the target audio: 6A_endpt\n",
      "Predicted label: 6A_endpt\n",
      "\n",
      "Actual label of the target audio: 7A_endpt\n",
      "Predicted label: 7A_endpt\n",
      "\n",
      "Actual label of the target audio: jnt\n",
      "Predicted label: 2A_endpt\n",
      "\n",
      "Actual label of the target audio: memohon\n",
      "Predicted label: 4A_endpt\n",
      "\n",
      "Actual label of the target audio: maaf\n",
      "Predicted label: 4A_endpt\n",
      "\n"
     ]
    }
   ],
   "source": [
    "correct_prediction_count = 0\n",
    "for i in range(len(target_data)):\n",
    "    lowest_distance = np.inf\n",
    "    predicted_label = None\n",
    "    \n",
    "    print(f\"Actual label of the target audio: {target_labels[i]}\")\n",
    "    \n",
    "    for j in range(len(template_data)):\n",
    "        distance, _, _, _ = dtw(template_data[j], target_data[i], dist = lambda x, y: np.linalg.norm(x - y, ord = 1))\n",
    "\n",
    "        if distance < lowest_distance:\n",
    "            lowest_distance = distance\n",
    "            predicted_label = template_labels[j]\n",
    "            \n",
    "    if (target_labels[i][0] == predicted_label[0]):\n",
    "        correct_prediction_count += 1\n",
    "    \n",
    "    print(f\"Predicted label: {predicted_label}\\n\")"
   ]
  },
  {
   "cell_type": "code",
   "execution_count": 7,
   "id": "3a551ba2-3497-4ddc-8d63-f09216683d72",
   "metadata": {},
   "outputs": [
    {
     "name": "stdout",
     "output_type": "stream",
     "text": [
      "Accuracy: 70.0%\n"
     ]
    }
   ],
   "source": [
    "print(f\"Accuracy: {correct_prediction_count / len(target_data) * 100}%\")"
   ]
  }
 ],
 "metadata": {
  "kernelspec": {
   "display_name": "Python 3",
   "language": "python",
   "name": "python3"
  },
  "language_info": {
   "codemirror_mode": {
    "name": "ipython",
    "version": 3
   },
   "file_extension": ".py",
   "mimetype": "text/x-python",
   "name": "python",
   "nbconvert_exporter": "python",
   "pygments_lexer": "ipython3",
   "version": "3.9.1"
  }
 },
 "nbformat": 4,
 "nbformat_minor": 5
}